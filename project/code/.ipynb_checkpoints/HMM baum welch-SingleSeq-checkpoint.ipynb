{
 "cells": [
  {
   "cell_type": "code",
   "execution_count": 210,
   "id": "f126060a",
   "metadata": {},
   "outputs": [],
   "source": [
    "#V = sequences\n",
    "#a = transition\n",
    "#b = emission\n",
    "from tqdm.notebook import tqdm\n",
    "\n",
    "def forward_run(seq, emission, transition, initial_distribution):\n",
    "    alpha = np.zeros((len(seq), transition.shape[0]))\n",
    "    # Initialising first position\n",
    "    alpha[0, :] = initial_distribution * emission[:, seq[0]]\n",
    "\n",
    "    # main loop\n",
    "    for i in range(1, len(seq)):\n",
    "\n",
    "        for j in range(0, transition.shape[0]): #Through number of states\n",
    "            \n",
    "            alpha[i,j] = np.dot(alpha[i-1], transition[:,j])*emission[j, seq[i]]\n",
    "    \n",
    "    return(alpha)\n",
    "\n",
    "def backward_run(seq, emission, transition):\n",
    "    beta = np.zeros((len(seq), transition.shape[0]))\n",
    "    #initialising last position\n",
    "    beta[len(seq)-1] = np.ones((transition.shape[0]))\n",
    "    \n",
    "    for i in range(len(seq) - 2, -1, -1): #Run backwards through the sequence\n",
    "        for j in range(transition.shape[0]):\n",
    "            beta[i,j] = np.dot((beta[i+1]*emission[:, seq[i+1]]), transition[j,:])\n",
    "    \n",
    "    return(beta)\n",
    "\n",
    "def baum_welch(seq, transition, emission, initial_distribution, n_iter=50):\n",
    "    \n",
    "    \n",
    "\n",
    "    M = transition.shape[0] #number of hidden states\n",
    "    T = len(seq)\n",
    "    \n",
    "    \n",
    "    \n",
    "    for n in tqdm(range(n_iter)):\n",
    "        alpha = forward_run(seq, emission, transition, initial_distribution)\n",
    "        beta  = backward_run(seq, emission, transition) \n",
    "        \n",
    "        #On the fly normalisation:\n",
    "        norm_fact = np.sum(alpha, axis = 1)\n",
    "\n",
    "        for i in range(alpha.shape[1]):\n",
    "            alpha[:,i] = alpha[:,i]/norm_fact\n",
    "            beta[:,i] = beta[:,i]/norm_fact\n",
    "        \n",
    "        \n",
    "        \n",
    "        #xi[i,j] probability of transition from hidden state i to hidden state j at time t given observations:\n",
    "        xi = np.zeros((M, M, T-1))\n",
    "        \n",
    "        for t in range(T-1):\n",
    "            # The denominator gives the probability of observing the seq given the parameters.\n",
    "            # Which equals getting the observation by the sum of paths through the model.\n",
    "            \n",
    "            d1 = np.dot((alpha[t,:].T), transition*emission[:, seq[t + 1]].T)\n",
    "            \n",
    "            denominator = np.dot(d1, beta[t+1, :])\n",
    "            \n",
    "            for i in range(M):\n",
    "                numerator = alpha[t,i] * transition[i,:] * emission[:, seq[t+1]].T * beta[t+1, :].T\n",
    "                xi[i, :, t] = numerator / denominator\n",
    "    \n",
    "        # probability at given state i and time t given the observed sequence.\n",
    "        gamma = np.sum(xi, axis=1)\n",
    "\n",
    "        ### Maximization step\n",
    "\n",
    "        #update transition\n",
    "        transition = np.sum(xi, axis = 2) / np.sum(gamma, axis=1).reshape((-1,1))\n",
    "\n",
    "        #Ensure T elements in Gamma, gamma has lenght T-1 and T emissions are needed.\n",
    "        gamma = np.hstack((gamma, np.sum(xi[:, :, T - 2], axis=0).reshape((-1,1))))\n",
    "\n",
    "        K = emission.shape[1]\n",
    "        denominator = np.sum(gamma, axis=1)\n",
    "\n",
    "        for l in range(K):\n",
    "            emission[:, l] = np.sum(gamma[:, seq == l], axis=1)\n",
    "\n",
    "        emission = np.divide(emission, denominator.reshape((-1,1)))\n",
    "\n",
    "        #Initial dist:\n",
    "        initial_distribution = gamma[:,0]\n",
    "    \n",
    "    return(emission, transition, initial_distribution)\n",
    "\n",
    "\n",
    "    "
   ]
  },
  {
   "cell_type": "code",
   "execution_count": null,
   "id": "9c1d0a47",
   "metadata": {},
   "outputs": [],
   "source": [
    "if len(seq_list.shape) != 2:\n",
    "        np.array([seq])"
   ]
  },
  {
   "cell_type": "code",
   "execution_count": 211,
   "id": "6613cf55",
   "metadata": {},
   "outputs": [],
   "source": [
    "def encode_seq(symbols, sequence):\n",
    "\n",
    "    \n",
    "        enc = [0] * len(sequence)\n",
    "\n",
    "        for i in range(len(sequence)):\n",
    "            enc[i] = symbols.find(sequence[i])\n",
    "\n",
    "        return(np.array(enc))\n",
    "    \n",
    "def genSeq(n, init_dist, trans, emission):\n",
    "    states = []\n",
    "    vis = []\n",
    "    \n",
    "    state = np.random.choice([x for x in range(len(init))], p=init)\n",
    "    \n",
    "    for i in range(n):\n",
    "        state = np.random.choice([x for x in range(len(trans[state]))], p=trans[state])\n",
    "        v = np.random.choice([x+1 for x in range(len(emission[state]))], p=emission[state])\n",
    "        states.append(str(state))\n",
    "        vis.append(str(v))\n",
    "    states = \"\".join(states)\n",
    "    vis = \"\".join(vis)\n",
    "    \n",
    "    return(states, vis)"
   ]
  },
  {
   "cell_type": "code",
   "execution_count": 212,
   "id": "44215353",
   "metadata": {
    "scrolled": true
   },
   "outputs": [
    {
     "name": "stdout",
     "output_type": "stream",
     "text": [
      "4643544636631426246636664662323646362646664212612161266644654666462636656254665314353116362612632621\n",
      "0000000000000011111111111111111111111111100000000001111111111111111111111111111000000000000000000000\n"
     ]
    },
    {
     "data": {
      "application/vnd.jupyter.widget-view+json": {
       "model_id": "10b14e76b3844fd58ce5ff0610707ad2",
       "version_major": 2,
       "version_minor": 0
      },
      "text/plain": [
       "  0%|          | 0/500 [00:00<?, ?it/s]"
      ]
     },
     "metadata": {},
     "output_type": "display_data"
    },
    {
     "data": {
      "text/plain": [
       "(array([[9.03713776e-19, 8.72932605e-02, 1.08221907e-01, 2.31027613e-01,\n",
       "         7.97640501e-02, 4.93693170e-01],\n",
       "        [2.41433345e-01, 2.38688239e-01, 1.60801486e-01, 5.95432710e-02,\n",
       "         3.20470428e-02, 2.67486616e-01]]),\n",
       " array([[0.9194378 , 0.0805622 ],\n",
       "        [0.09202015, 0.90797985]]),\n",
       " array([1., 0.]))"
      ]
     },
     "execution_count": 212,
     "metadata": {},
     "output_type": "execute_result"
    }
   ],
   "source": [
    "### Sequence:\n",
    "sim_trans = np.array([\n",
    "    [0.95,0.05],\n",
    "    [0.1, 0.9]\n",
    "])\n",
    "\n",
    "sim_emission = np.array([\n",
    "    [1.0/6, 1.0/6, 1.0/6, 1.0/6, 1.0/6, 1.0/6],\n",
    "    [1.0/10, 1.0/10, 1.0/10, 1.0/10, 1.0/10, 5.0/10]\n",
    "])\n",
    "\n",
    "sim_init = np.array([0.5,0.5])\n",
    "\n",
    "states, seq = genSeq(100, sim_init, sim_trans, sim_emission)\n",
    "print (seq)\n",
    "print(states)\n",
    "\n",
    "seq = np.array([x for x in seq])\n",
    "symbols = \"123456\"\n",
    "\n",
    "seq = encode_seq(symbols, seq)\n",
    "\n",
    "\n",
    "#### Initial values\n",
    "# Transition Probabilities\n",
    "transition = np.ones((2, 2))\n",
    "transition = transition/ np.sum(transition, axis=1)\n",
    "\n",
    "\n",
    "# Emission Probabilities\n",
    "emission = np.array(((1, 3, 5,7,9,11), (2, 4, 6, 8, 10, 12)))\n",
    "emission = emission / np.sum(emission, axis=1).reshape((-1, 1))\n",
    "\n",
    "# Equal Probabilities for the initial distribution\n",
    "initial_distribution = np.array((0.5, 0.5))\n",
    "\n",
    "\n",
    "\n",
    "\n",
    "baum_welch(seq, transition, emission, initial_distribution, n_iter=500)"
   ]
  },
  {
   "cell_type": "code",
   "execution_count": 216,
   "id": "3d6e5ea3",
   "metadata": {},
   "outputs": [
    {
     "data": {
      "text/plain": [
       "True"
      ]
     },
     "execution_count": 216,
     "metadata": {},
     "output_type": "execute_result"
    }
   ],
   "source": [
    "len(np.array([[1,2,3]]).shape)==2\n",
    "np.array([np.array([1,2,3])])"
   ]
  },
  {
   "cell_type": "code",
   "execution_count": 221,
   "id": "4c666e99",
   "metadata": {},
   "outputs": [
    {
     "data": {
      "text/plain": [
       "(1, 3)"
      ]
     },
     "execution_count": 221,
     "metadata": {},
     "output_type": "execute_result"
    }
   ],
   "source": [
    "np.array([np.array([1,2,3])]).shape"
   ]
  },
  {
   "cell_type": "code",
   "execution_count": null,
   "id": "2ae455cb",
   "metadata": {},
   "outputs": [],
   "source": []
  }
 ],
 "metadata": {
  "kernelspec": {
   "display_name": "Python 3",
   "language": "python",
   "name": "python3"
  },
  "language_info": {
   "codemirror_mode": {
    "name": "ipython",
    "version": 3
   },
   "file_extension": ".py",
   "mimetype": "text/x-python",
   "name": "python",
   "nbconvert_exporter": "python",
   "pygments_lexer": "ipython3",
   "version": "3.6.9"
  }
 },
 "nbformat": 4,
 "nbformat_minor": 5
}
