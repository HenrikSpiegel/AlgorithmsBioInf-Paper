{
 "cells": [
  {
   "cell_type": "code",
   "execution_count": 36,
   "id": "675ff16a",
   "metadata": {},
   "outputs": [],
   "source": [
    "#V = sequences\n",
    "#a = transition\n",
    "#b = emission\n",
    "from tqdm.notebook import tqdm\n",
    "import numpy as np\n",
    "import itertools\n",
    "\n",
    "def forward_run(seq, emission, transition, initial_distribution):\n",
    "    alpha = np.zeros((len(seq), transition.shape[0]))\n",
    "    # Initialising first position\n",
    "    alpha[0, :] = initial_distribution * emission[:, seq[0]]\n",
    "\n",
    "    # main loop\n",
    "    for i in range(1, len(seq)):\n",
    "\n",
    "        for j in range(0, transition.shape[0]): #Through number of states\n",
    "            \n",
    "            alpha[i,j] = np.dot(alpha[i-1], transition[:,j])*emission[j, seq[i]]\n",
    "    \n",
    "    return(alpha)\n",
    "\n",
    "def backward_run(seq, emission, transition):\n",
    "    beta = np.zeros((len(seq), transition.shape[0]))\n",
    "    #initialising last position\n",
    "    beta[len(seq)-1] = np.ones((transition.shape[0]))\n",
    "    \n",
    "    for i in range(len(seq) - 2, -1, -1): #Run backwards through the sequence\n",
    "        for j in range(transition.shape[0]):\n",
    "            beta[i,j] = np.dot((beta[i+1]*emission[:, seq[i+1]]), transition[j,:])\n",
    "    \n",
    "    return(beta)\n",
    "\n",
    "def baum_welch(seq_list, transition, emission, initial_distribution, n_iter=50):\n",
    "    \n",
    "    #Ensure shape of seqlist\n",
    "    if len(seq_list.shape) != 2:\n",
    "        seq_list = np.array([seq_list])\n",
    "\n",
    "    M = transition.shape[0] #number of hidden states\n",
    "    T = seq_list.shape[1]   #lenght of each sequence\n",
    "    R = seq_list.shape[0]   #number of sequences\n",
    "    \n",
    "    \n",
    "    for n in tqdm(range(n_iter), leave=False):\n",
    "        xi_list = []\n",
    "        gamma_list = []\n",
    "\n",
    "        for seq in seq_list:\n",
    "\n",
    "            alpha = forward_run(seq, emission, transition, initial_distribution)\n",
    "            beta  = backward_run(seq, emission, transition) \n",
    "\n",
    "            #On the fly normalisation:\n",
    "            norm_fact = np.sum(alpha, axis = 1)\n",
    "\n",
    "            for i in range(alpha.shape[1]):\n",
    "                alpha[:,i] = alpha[:,i]/norm_fact\n",
    "                beta[:,i] = beta[:,i]/norm_fact\n",
    "        \n",
    "        \n",
    "        \n",
    "            #xi[i,j] probability of transition from hidden state i to hidden state j at time t given observations:\n",
    "            xi = np.zeros((M, M, T-1))\n",
    "\n",
    "            for t in range(T-1):\n",
    "                # The denominator gives the probability of observing the seq given the parameters.\n",
    "                # Which equals getting the observation by the sum of paths through the model.\n",
    "\n",
    "                d1 = np.dot((alpha[t,:].T), transition*emission[:, seq[t + 1]].T)\n",
    "\n",
    "                denominator = np.dot(d1, beta[t+1, :])\n",
    "\n",
    "                for i in range(M):\n",
    "                    numerator = alpha[t,i] * transition[i,:] * emission[:, seq[t+1]].T * beta[t+1, :].T\n",
    "                    xi[i, :, t] = numerator / denominator\n",
    "            \n",
    "            xi_list.append(xi)\n",
    "\n",
    "            \n",
    "            # probability at given state i and time t given the observed sequence.\n",
    "            gamma = np.sum(xi, axis=1)\n",
    "            gamma_list.append(gamma)\n",
    "        \n",
    "        \n",
    "        \n",
    "        ### Maximization step\n",
    "        #Initial dist:\n",
    "        initial_distribution = gamma_list[0][:,0]\n",
    "        for i in range(1,R):\n",
    "            initial_distribution += gamma_list[i][:,0]\n",
    "        initial_distribution = initial_distribution / R\n",
    "        #initial_distribution = sum([gamma[:,0] for gamma in gamma_list]) / R\n",
    "            \n",
    "            \n",
    "        #update transition\n",
    "        trans_nom = np.sum(xi_list[0], axis = 2)\n",
    "        trans_denom = np.sum(gamma_list[0], axis=1).reshape((-1,1))\n",
    "        \n",
    "        for i in range(1, R):\n",
    "            trans_nom += np.sum(xi_list[i], axis = 2)\n",
    "            trans_denom += np.sum(gamma_list[i], axis=1).reshape((-1,1))\n",
    "        \n",
    "        transition =  trans_nom/trans_denom\n",
    "        \n",
    "        #Ensure T elements in Gamma, gamma has lenght T-1 and T emissions are needed.\n",
    "        gamma_list = [np.hstack((gamma, np.sum(xi[:, :, T - 2], axis=0).reshape((-1,1)))) for gamma, xi in zip(gamma_list, xi_list)]\n",
    "\n",
    "        K = emission.shape[1]\n",
    "        \n",
    "        emis_denom = np.sum(gamma_list[0], axis=1) \n",
    "        for i in range(1,R):\n",
    "            emis_denom += np.sum(gamma_list[i], axis=1) \n",
    "            #denominator = np.sum([np.sum(gamma, axis=1) for gamma in gamma_list])\n",
    "        \n",
    "        \n",
    "        for l in range(K):\n",
    "            emission[:, l] = np.sum(gamma_list[0][:, seq_list[0] == l], axis=1)\n",
    "        \n",
    "        emission_temp = emission.copy()\n",
    "        for i in range(1,R):\n",
    "            for l in range(K):\n",
    "                emission_temp[:, l] = np.sum(gamma_list[i][:, seq_list[i] == l], axis=1)\n",
    "            emission += emission_temp\n",
    "\n",
    "        emission = np.divide(emission, emis_denom.reshape((-1,1)))\n",
    "    \n",
    "    # Get the probability of the sequence given the trained parameters\n",
    "    model_prob = 0\n",
    "    for seq in seq_list:\n",
    "        alpha = forward_run(seq, emission, transition, initial_distribution)\n",
    "        model_prob += np.sum(np.log(alpha[:,-1], out=np.zeros_like(alpha[:,-1]), where=(alpha[:,-1])!=0))\n",
    "    \n",
    "    return(np.round(emission,3), np.round(transition,3), initial_distribution, np.round(model_prob,2))\n",
    "\n",
    "\n",
    "    "
   ]
  },
  {
   "cell_type": "code",
   "execution_count": 40,
   "id": "e309c93d",
   "metadata": {},
   "outputs": [
    {
     "data": {
      "text/plain": [
       "array([0, 1, 2, 2, 2, 2, 0])"
      ]
     },
     "execution_count": 40,
     "metadata": {},
     "output_type": "execute_result"
    }
   ],
   "source": [
    "encode_seq(\"012\", \"0122220\")"
   ]
  },
  {
   "cell_type": "code",
   "execution_count": 110,
   "id": "9dadde85",
   "metadata": {},
   "outputs": [],
   "source": [
    "def encode_seq(symbols, sequence):\n",
    "\n",
    "    \n",
    "        enc = [0] * len(sequence)\n",
    "\n",
    "        for i in range(len(sequence)):\n",
    "            enc[i] = symbols.find(sequence[i])\n",
    "\n",
    "        return(np.array(enc))\n",
    "    \n",
    "def genSeq(n, init_dist, trans, emission):\n",
    "    states = []\n",
    "    vis = []\n",
    "    \n",
    "    state = np.random.choice([x for x in range(len(init_dist))], p=init_dist)\n",
    "    \n",
    "    for i in range(n):\n",
    "        state = np.random.choice([x for x in range(len(trans[state]))], p=trans[state])\n",
    "        v = np.random.choice([x+1 for x in range(len(emission[state]))], p=emission[state])\n",
    "        states.append(str(state))\n",
    "        vis.append(str(v))\n",
    "    states = \"\".join(states)\n",
    "    vis = \"\".join(vis)\n",
    "    \n",
    "    return(states, vis)\n",
    "\n",
    "\n",
    "def calc_mse(x,y):\n",
    "    err = np.mean(np.power(x-y,2))\n",
    "    return(err)\n",
    "\n",
    "def evaluate_performance(est_emission, est_transition, est_init, emission, transition, init):\n",
    "    \n",
    "    est_par = np.concatenate([est_emission, est_transition, est_init.reshape(-1,1)], axis=1)\n",
    "    true_par = np.concatenate([emission, transition, init.reshape(-1,1)], axis=1)\n",
    "    \n",
    "    mse_list = []\n",
    "    for state_order in itertools.permutations(est_par, len(est_par)):\n",
    "        mse_list.append(calc_mse(state_order, true_par))\n",
    "        \n",
    "    return(mse_list)\n",
    "\n",
    "def combine_ensemble(emission_list, transition_list, init_list, loglikelihood_list):\n",
    "    \n",
    "    # Determine reference run by best likelihood\n",
    "    R = len(emission_list) #number of runs\n",
    "    \n",
    "    ref_index = np.argmax(loglikelihood_list)\n",
    "    print(\"reference model: \", ref_index+1)\n",
    "    ref_comb_par = np.concatenate([emission_list[ref_index], \n",
    "                                   transition_list[ref_index], \n",
    "                                   init_list[ref_index].reshape(-1,1)], \n",
    "                                  axis=1)\n",
    "    \n",
    "    #rotated parameters for each run with least mse to ref:\n",
    "    rot_par = []\n",
    "    \n",
    "    for r in range(R):\n",
    "        comb_par = np.concatenate([emission_list[r], transition_list[r], init_list[r].reshape(-1,1)], axis=1)\n",
    "        mse = []\n",
    "        rotation = []\n",
    "        for state_rotation in itertools.permutations(comb_par, len(comb_par)):\n",
    "            rotation.append(state_rotation)\n",
    "            mse.append(calc_mse(state_rotation, ref_comb_par))\n",
    "        \n",
    "        # keep the rotation with the smallest mse\n",
    "        rot_par.append([rotation[np.argmin(mse)]])\n",
    "    \n",
    "    #combine all the parameters from the runs rotated to match reference.\n",
    "    \n",
    "    ens_comb_par = np.divide(sum(np.array(rot_par))[0],R)\n",
    "\n",
    "    #Slice into each matrix:\n",
    "    len_em = emission_list[0].shape[1]\n",
    "    len_tr = transition_list[0].shape[1]\n",
    "    \n",
    "    ens_emission, ens_transition, ens_init = np.split(ens_comb_par,[len_em,len_em+len_tr],axis=1)\n",
    "    return(ens_emission, ens_transition, ens_init.flatten())\n",
    "    \n",
    "\n"
   ]
  },
  {
   "cell_type": "code",
   "execution_count": 112,
   "id": "dc62d901",
   "metadata": {
    "scrolled": true
   },
   "outputs": [
    {
     "data": {
      "application/vnd.jupyter.widget-view+json": {
       "model_id": "6dbbd60233804bd4b9c741f843c57801",
       "version_major": 2,
       "version_minor": 0
      },
      "text/plain": [
       "  0%|          | 0/5 [00:00<?, ?it/s]"
      ]
     },
     "metadata": {},
     "output_type": "display_data"
    },
    {
     "data": {
      "application/vnd.jupyter.widget-view+json": {
       "model_id": "",
       "version_major": 2,
       "version_minor": 0
      },
      "text/plain": [
       "  0%|          | 0/500 [00:00<?, ?it/s]"
      ]
     },
     "metadata": {},
     "output_type": "display_data"
    },
    {
     "data": {
      "application/vnd.jupyter.widget-view+json": {
       "model_id": "",
       "version_major": 2,
       "version_minor": 0
      },
      "text/plain": [
       "  0%|          | 0/500 [00:00<?, ?it/s]"
      ]
     },
     "metadata": {},
     "output_type": "display_data"
    },
    {
     "data": {
      "application/vnd.jupyter.widget-view+json": {
       "model_id": "",
       "version_major": 2,
       "version_minor": 0
      },
      "text/plain": [
       "  0%|          | 0/500 [00:00<?, ?it/s]"
      ]
     },
     "metadata": {},
     "output_type": "display_data"
    },
    {
     "data": {
      "application/vnd.jupyter.widget-view+json": {
       "model_id": "",
       "version_major": 2,
       "version_minor": 0
      },
      "text/plain": [
       "  0%|          | 0/500 [00:00<?, ?it/s]"
      ]
     },
     "metadata": {},
     "output_type": "display_data"
    },
    {
     "data": {
      "application/vnd.jupyter.widget-view+json": {
       "model_id": "",
       "version_major": 2,
       "version_minor": 0
      },
      "text/plain": [
       "  0%|          | 0/500 [00:00<?, ?it/s]"
      ]
     },
     "metadata": {},
     "output_type": "display_data"
    },
    {
     "name": "stdout",
     "output_type": "stream",
     "text": [
      "reference model:  1\n"
     ]
    }
   ],
   "source": [
    "## Run parameters:\n",
    "runs = 5 # number of models trained\n",
    "training_iters = 500 #Number of training iterations pr. model\n",
    "\n",
    "n_sim_seqs = 20 # Number of generated simulated sequences\n",
    "len_sim_seq = 50 # Lenght of simulated sequences\n",
    "\n",
    "\n",
    "### Known parameters to generate test sequences:\n",
    "sim_trans = np.array([\n",
    "    [0.95,0.05],\n",
    "    [0.1, 0.9]\n",
    "])\n",
    "\n",
    "sim_emission = np.array([\n",
    "    [1.0/6, 1.0/6, 1.0/6, 1.0/6, 1.0/6, 1.0/6],\n",
    "    [1.0/10, 1.0/10, 1.0/10, 1.0/10, 1.0/10, 5.0/10]\n",
    "])\n",
    "\n",
    "sim_init = np.array([0.5,0.5])\n",
    "\n",
    "## Generate simulated sequences from a known model\n",
    "seq_list = []\n",
    "for i in range(n_sim_seqs):\n",
    "    states, seq = genSeq(len_sim_seq, sim_init, sim_trans, sim_emission)\n",
    "    seq = np.array([x for x in seq])\n",
    "    symbols = \"123456\"\n",
    "\n",
    "    seq = encode_seq(symbols, seq)\n",
    "    seq_list.append(seq)\n",
    "\n",
    "#\n",
    "\n",
    "est_em_list = []\n",
    "est_trans_list = []\n",
    "est_init_list = []\n",
    "mse_run = []\n",
    "model_probabilities = []\n",
    "\n",
    "for run in tqdm(range(runs)):\n",
    "    \n",
    "    #### Initial values\n",
    "    # Transition Probabilities\n",
    "    n_states = 2\n",
    "\n",
    "    transition = np.ones((n_states, n_states))\n",
    "    transition = transition / np.sum(transition, axis=1)\n",
    "\n",
    "\n",
    "    # Emission Probabilities\n",
    "    emission = np.random.uniform(0,1, size=(n_states, len(symbols)))\n",
    "    emission = emission / np.sum(emission, axis=1).reshape((-1, 1))\n",
    "\n",
    "    # Equal Probabilities for the initial distribution\n",
    "    initial_distribution = np.divide(np.ones(n_states), n_states)\n",
    "\n",
    "    # Run baum_welch \n",
    "    est_em, est_trans, est_init, prob = baum_welch(np.array(seq_list), transition, emission, \n",
    "                                             initial_distribution, n_iter=training_iters)\n",
    "    est_em_list.append(est_em) \n",
    "    est_trans_list.append(est_trans)\n",
    "    est_init_list.append(est_init)\n",
    "    model_probabilities.append(prob)\n",
    "    \n",
    "    mse = evaluate_performance(est_em, est_trans, est_init, sim_emission, sim_trans, sim_init)\n",
    "    mse_run.append(mse)\n",
    "\n",
    "    \n",
    "## Computing ensemble of the runs\n",
    "ensemble_emission, ensemble_transition , ensemble_init = combine_ensemble(emission_list = est_em_list, \n",
    "                                                             transition_list = est_trans_list, \n",
    "                                                             init_list = est_init_list,\n",
    "                                                             loglikelihood_list = model_probabilities)\n",
    "\n",
    "# Get the probability of the sequence given the trained parameters\n",
    "ensemble_prob = 0\n",
    "for seq in seq_list:\n",
    "    alpha = forward_run(seq, ensemble_emission, ensemble_transition, ensemble_init)\n",
    "    ensemble_prob += np.sum(np.log(alpha[:,-1], out=np.zeros_like(alpha[:,-1]), where=(alpha[:,-1])!=0))\n",
    "\n",
    "ensemble_mse = evaluate_performance(ensemble_emission, ensemble_transition, ensemble_init, \n",
    "                                    sim_emission, sim_trans, sim_init)"
   ]
  },
  {
   "cell_type": "code",
   "execution_count": 113,
   "id": "12a010ea",
   "metadata": {},
   "outputs": [
    {
     "data": {
      "image/png": "[encoded data removed]",
      "text/plain": [
       "<Figure size 432x288 with 2 Axes>"
      ]
     },
     "metadata": {
      "needs_background": "light"
     },
     "output_type": "display_data"
    }
   ],
   "source": [
    "import matplotlib.pyplot as plt\n",
    "\n",
    "def plot_evaluation(mse_run, ensemble_mse, model_probabilities, ensemble_prob):\n",
    "    mse_min = np.min(mse_run+[ensemble_mse], axis=1)\n",
    "    x_ticks = [str(x+1) for x in range(len(mse_run))]+[\"ens\"]\n",
    "    \n",
    "    plt.subplot(1,2,1)\n",
    "    plt.bar(x=x_ticks, height=mse_min)\n",
    "    plt.ylabel(\"MSE\")\n",
    "\n",
    "\n",
    "    plt.subplot(1,2,2)\n",
    "    plt.bar(x=x_ticks, height = np.divide(model_probabilities+[ensemble_prob],-1))\n",
    "    plt.ylabel(\"-log likelihood\")\n",
    "    plt.tight_layout()\n",
    "    plt.show()\n",
    "\n",
    "plot_evaluation(mse_run, ensemble_mse, model_probabilities, ensemble_prob)"
   ]
  },
  {
   "cell_type": "code",
   "execution_count": 102,
   "id": "da64e77c",
   "metadata": {},
   "outputs": [
    {
     "data": {
      "text/plain": [
       "(array([[0.1288, 0.1188, 0.1136, 0.1202, 0.1372, 0.3814],\n",
       "        [0.1166, 0.0988, 0.1446, 0.1142, 0.1366, 0.3892]]),\n",
       " array([[0.9808, 0.0042],\n",
       "        [0.12  , 0.7666]]),\n",
       " array([[0.50393031],\n",
       "        [0.49606969]]))"
      ]
     },
     "execution_count": 102,
     "metadata": {},
     "output_type": "execute_result"
    }
   ],
   "source": [
    "\n",
    "def combine_ensemble(emission_list, transition_list, init_list, loglikelihood_list):\n",
    "    \n",
    "    # Determine reference run by best likelihood\n",
    "    R = len(emission_list) #number of runs\n",
    "    \n",
    "    ref_index = np.argmax(loglikelihood_list)\n",
    "    \n",
    "    ref_comb_par = np.concatenate([emission_list[ref_index], \n",
    "                                   transition_list[ref_index], \n",
    "                                   init_list[ref_index].reshape(-1,1)], \n",
    "                                  axis=1)\n",
    "    \n",
    "    #rotated parameters for each run with least mse to ref:\n",
    "    rot_par = []\n",
    "    \n",
    "    for r in range(R):\n",
    "        comb_par = np.concatenate([emission_list[r], transition_list[r], init_list[r].reshape(-1,1)], axis=1)\n",
    "        mse = []\n",
    "        rotation = []\n",
    "        for state_rotation in itertools.permutations(comb_par, len(comb_par)):\n",
    "            rotation.append(state_rotation)\n",
    "            mse.append(calc_mse(state_rotation, ref_comb_par))\n",
    "        \n",
    "        # keep the rotation with the smallest mse\n",
    "        rot_par.append([rotation[np.argmin(mse)]])\n",
    "    \n",
    "    #combine all the parameters from the runs rotated to match reference.\n",
    "    \n",
    "    ens_comb_par = np.divide(sum(np.array(rot_par))[0],R)\n",
    "\n",
    "    #Slice into each matrix:\n",
    "    len_em = emission_list[0].shape[1]\n",
    "    len_tr = transition_list[0].shape[1]\n",
    "    \n",
    "    ens_emission, ens_transition, ens_init = np.split(ens_comb_par,[len_em,len_em+len_tr],axis=1)\n",
    "    return(ens_emission, ens_transition, ens_init)\n",
    "\n",
    "combine_ensemble(emission_list = est_em_list, \n",
    "                 transition_list = est_trans_list, \n",
    "                 init_list = est_init_list,\n",
    "                 loglikelihood_list = model_probabilities)"
   ]
  },
  {
   "cell_type": "code",
   "execution_count": 101,
   "id": "0ed3b17c",
   "metadata": {},
   "outputs": [
    {
     "data": {
      "text/plain": [
       "6"
      ]
     },
     "execution_count": 101,
     "metadata": {},
     "output_type": "execute_result"
    }
   ],
   "source": [
    "est_em_list[0].shape[1]"
   ]
  },
  {
   "cell_type": "code",
   "execution_count": 93,
   "id": "e2a7bd1f",
   "metadata": {},
   "outputs": [
    {
     "data": {
      "text/plain": [
       "array([0.1288    , 0.1188    , 0.1136    , 0.1202    , 0.1372    ,\n",
       "       0.3814    , 0.9808    , 0.0042    , 0.50393031, 0.1166    ,\n",
       "       0.0988    , 0.1446    , 0.1142    , 0.1366    , 0.3892    ,\n",
       "       0.12      , 0.7666    , 0.49606969])"
      ]
     },
     "execution_count": 93,
     "metadata": {},
     "output_type": "execute_result"
    }
   ],
   "source": [
    "a"
   ]
  },
  {
   "cell_type": "code",
   "execution_count": 92,
   "id": "2f1e6c9d",
   "metadata": {},
   "outputs": [
    {
     "ename": "IndexError",
     "evalue": "tuple index out of range",
     "output_type": "error",
     "traceback": [
      "\u001b[0;31m---------------------------------------------------------------------------\u001b[0m",
      "\u001b[0;31mIndexError\u001b[0m                                Traceback (most recent call last)",
      "\u001b[0;32m<ipython-input-92-b0d0a39b62b0>\u001b[0m in \u001b[0;36m<module>\u001b[0;34m\u001b[0m\n\u001b[0;32m----> 1\u001b[0;31m \u001b[0mem\u001b[0m\u001b[0;34m,\u001b[0m \u001b[0mtrans\u001b[0m\u001b[0;34m,\u001b[0m \u001b[0minit\u001b[0m \u001b[0;34m=\u001b[0m \u001b[0mnp\u001b[0m\u001b[0;34m.\u001b[0m\u001b[0msplit\u001b[0m\u001b[0;34m(\u001b[0m\u001b[0ma\u001b[0m\u001b[0;34m,\u001b[0m \u001b[0;34m[\u001b[0m\u001b[0;36m2\u001b[0m\u001b[0;34m,\u001b[0m\u001b[0;36m4\u001b[0m\u001b[0;34m]\u001b[0m\u001b[0;34m,\u001b[0m\u001b[0maxis\u001b[0m\u001b[0;34m=\u001b[0m\u001b[0;36m1\u001b[0m\u001b[0;34m)\u001b[0m\u001b[0;34m\u001b[0m\u001b[0;34m\u001b[0m\u001b[0m\n\u001b[0m",
      "\u001b[0;32m<__array_function__ internals>\u001b[0m in \u001b[0;36msplit\u001b[0;34m(*args, **kwargs)\u001b[0m\n",
      "\u001b[0;32m~/Desktop/Algorithms/my_env/lib/python3.6/site-packages/numpy/lib/shape_base.py\u001b[0m in \u001b[0;36msplit\u001b[0;34m(ary, indices_or_sections, axis)\u001b[0m\n\u001b[1;32m    872\u001b[0m             raise ValueError(\n\u001b[1;32m    873\u001b[0m                 'array split does not result in an equal division')\n\u001b[0;32m--> 874\u001b[0;31m     \u001b[0;32mreturn\u001b[0m \u001b[0marray_split\u001b[0m\u001b[0;34m(\u001b[0m\u001b[0mary\u001b[0m\u001b[0;34m,\u001b[0m \u001b[0mindices_or_sections\u001b[0m\u001b[0;34m,\u001b[0m \u001b[0maxis\u001b[0m\u001b[0;34m)\u001b[0m\u001b[0;34m\u001b[0m\u001b[0;34m\u001b[0m\u001b[0m\n\u001b[0m\u001b[1;32m    875\u001b[0m \u001b[0;34m\u001b[0m\u001b[0m\n\u001b[1;32m    876\u001b[0m \u001b[0;34m\u001b[0m\u001b[0m\n",
      "\u001b[0;32m<__array_function__ internals>\u001b[0m in \u001b[0;36marray_split\u001b[0;34m(*args, **kwargs)\u001b[0m\n",
      "\u001b[0;32m~/Desktop/Algorithms/my_env/lib/python3.6/site-packages/numpy/lib/shape_base.py\u001b[0m in \u001b[0;36marray_split\u001b[0;34m(ary, indices_or_sections, axis)\u001b[0m\n\u001b[1;32m    765\u001b[0m     \"\"\"\n\u001b[1;32m    766\u001b[0m     \u001b[0;32mtry\u001b[0m\u001b[0;34m:\u001b[0m\u001b[0;34m\u001b[0m\u001b[0;34m\u001b[0m\u001b[0m\n\u001b[0;32m--> 767\u001b[0;31m         \u001b[0mNtotal\u001b[0m \u001b[0;34m=\u001b[0m \u001b[0mary\u001b[0m\u001b[0;34m.\u001b[0m\u001b[0mshape\u001b[0m\u001b[0;34m[\u001b[0m\u001b[0maxis\u001b[0m\u001b[0;34m]\u001b[0m\u001b[0;34m\u001b[0m\u001b[0;34m\u001b[0m\u001b[0m\n\u001b[0m\u001b[1;32m    768\u001b[0m     \u001b[0;32mexcept\u001b[0m \u001b[0mAttributeError\u001b[0m\u001b[0;34m:\u001b[0m\u001b[0;34m\u001b[0m\u001b[0;34m\u001b[0m\u001b[0m\n\u001b[1;32m    769\u001b[0m         \u001b[0mNtotal\u001b[0m \u001b[0;34m=\u001b[0m \u001b[0mlen\u001b[0m\u001b[0;34m(\u001b[0m\u001b[0mary\u001b[0m\u001b[0;34m)\u001b[0m\u001b[0;34m\u001b[0m\u001b[0;34m\u001b[0m\u001b[0m\n",
      "\u001b[0;31mIndexError\u001b[0m: tuple index out of range"
     ]
    }
   ],
   "source": [
    "em, trans, init = np.split(a, [2,4],axis=1)"
   ]
  },
  {
   "cell_type": "code",
   "execution_count": 52,
   "id": "fb34df55",
   "metadata": {},
   "outputs": [
    {
     "data": {
      "text/plain": [
       "array([[1, 2],\n",
       "       [3, 4]])"
      ]
     },
     "execution_count": 52,
     "metadata": {},
     "output_type": "execute_result"
    }
   ],
   "source": [
    "em"
   ]
  }
 ],
 "metadata": {
  "kernelspec": {
   "display_name": "Python 3",
   "language": "python",
   "name": "python3"
  },
  "language_info": {
   "codemirror_mode": {
    "name": "ipython",
    "version": 3
   },
   "file_extension": ".py",
   "mimetype": "text/x-python",
   "name": "python",
   "nbconvert_exporter": "python",
   "pygments_lexer": "ipython3",
   "version": "3.6.9"
  }
 },
 "nbformat": 4,
 "nbformat_minor": 5
}
