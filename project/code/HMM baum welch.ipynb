{
 "cells": [
  {
   "cell_type": "code",
   "execution_count": 140,
   "id": "675ff16a",
   "metadata": {},
   "outputs": [],
   "source": [
    "#V = sequences\n",
    "#a = transition\n",
    "#b = emission\n",
    "from tqdm.notebook import tqdm\n",
    "import numpy as np\n",
    "import itertools\n",
    "\n",
    "def forward_run(seq, emission, transition, initial_distribution):\n",
    "    alpha = np.zeros((len(seq), transition.shape[0]))\n",
    "    # Initialising first position\n",
    "    alpha[0, :] = initial_distribution * emission[:, seq[0]]\n",
    "\n",
    "    # main loop\n",
    "    for i in range(1, len(seq)):\n",
    "\n",
    "        for j in range(0, transition.shape[0]): #Through number of states\n",
    "            \n",
    "            alpha[i,j] = np.dot(alpha[i-1], transition[:,j])*emission[j, seq[i]]\n",
    "    \n",
    "    return(alpha)\n",
    "\n",
    "def backward_run(seq, emission, transition):\n",
    "    beta = np.zeros((len(seq), transition.shape[0]))\n",
    "    #initialising last position\n",
    "    beta[len(seq)-1] = np.ones((transition.shape[0]))\n",
    "    \n",
    "    for i in range(len(seq) - 2, -1, -1): #Run backwards through the sequence\n",
    "        for j in range(transition.shape[0]):\n",
    "            beta[i,j] = np.dot((beta[i+1]*emission[:, seq[i+1]]), transition[j,:])\n",
    "    \n",
    "    return(beta)\n",
    "\n",
    "def baum_welch(seq_list, transition, emission, initial_distribution, n_iter=50):\n",
    "    \n",
    "    #Ensure shape of seqlist\n",
    "    if len(seq_list.shape) != 2:\n",
    "        seq_list = np.array([seq_list])\n",
    "\n",
    "    M = transition.shape[0] #number of hidden states\n",
    "    T = seq_list.shape[1] #lenght of each sequence\n",
    "    R = seq_list.shape[0] #number of sequences\n",
    "    \n",
    "    \n",
    "    for n in tqdm(range(n_iter), leave=False):\n",
    "        xi_list = []\n",
    "        gamma_list = []\n",
    "\n",
    "        for seq in seq_list:\n",
    "\n",
    "            alpha = forward_run(seq, emission, transition, initial_distribution)\n",
    "            beta  = backward_run(seq, emission, transition) \n",
    "\n",
    "            #On the fly normalisation:\n",
    "            norm_fact = np.sum(alpha, axis = 1)\n",
    "\n",
    "            for i in range(alpha.shape[1]):\n",
    "                alpha[:,i] = alpha[:,i]/norm_fact\n",
    "                beta[:,i] = beta[:,i]/norm_fact\n",
    "        \n",
    "        \n",
    "        \n",
    "            #xi[i,j] probability of transition from hidden state i to hidden state j at time t given observations:\n",
    "            xi = np.zeros((M, M, T-1))\n",
    "\n",
    "            for t in range(T-1):\n",
    "                # The denominator gives the probability of observing the seq given the parameters.\n",
    "                # Which equals getting the observation by the sum of paths through the model.\n",
    "\n",
    "                d1 = np.dot((alpha[t,:].T), transition*emission[:, seq[t + 1]].T)\n",
    "\n",
    "                denominator = np.dot(d1, beta[t+1, :])\n",
    "\n",
    "                for i in range(M):\n",
    "                    numerator = alpha[t,i] * transition[i,:] * emission[:, seq[t+1]].T * beta[t+1, :].T\n",
    "                    xi[i, :, t] = numerator / denominator\n",
    "            \n",
    "            xi_list.append(xi)\n",
    "            \n",
    "            # probability at given state i and time t given the observed sequence.\n",
    "            gamma = np.sum(xi, axis=1)\n",
    "            gamma_list.append(gamma)\n",
    "        \n",
    "        ### Maximization step\n",
    "        #Initial dist:\n",
    "        initial_distribution = gamma_list[0][:,0]\n",
    "        for i in range(1,R):\n",
    "            initial_distribution += gamma_list[i][:,0]\n",
    "        initial_distribution = initial_distribution / R\n",
    "        #initial_distribution = sum([gamma[:,0] for gamma in gamma_list]) / R\n",
    "            \n",
    "            \n",
    "        #update transition\n",
    "        trans_nom = np.sum(xi_list[0], axis = 2)\n",
    "        trans_denom = np.sum(gamma_list[0], axis=1).reshape((-1,1))\n",
    "        \n",
    "        for i in range(1, R):\n",
    "            trans_nom += np.sum(xi_list[i], axis = 2)\n",
    "            trans_denom += np.sum(gamma_list[i], axis=1).reshape((-1,1))\n",
    "        \n",
    "        transition =  trans_nom/trans_denom\n",
    "        \n",
    "        #Ensure T elements in Gamma, gamma has lenght T-1 and T emissions are needed.\n",
    "        gamma_list = [np.hstack((gamma, np.sum(xi[:, :, T - 2], axis=0).reshape((-1,1)))) for gamma, xi in zip(gamma_list, xi_list)]\n",
    "\n",
    "        K = emission.shape[1]\n",
    "        \n",
    "        emis_denom = np.sum(gamma_list[0], axis=1) \n",
    "        for i in range(1,R):\n",
    "            emis_denom += np.sum(gamma_list[i], axis=1) \n",
    "            #denominator = np.sum([np.sum(gamma, axis=1) for gamma in gamma_list])\n",
    "        \n",
    "        \n",
    "        for l in range(K):\n",
    "            emission[:, l] = np.sum(gamma_list[0][:, seq_list[0] == l], axis=1)\n",
    "        \n",
    "        emission_temp = emission.copy()\n",
    "        for i in range(1,R):\n",
    "            for l in range(K):\n",
    "                emission_temp[:, l] = np.sum(gamma_list[i][:, seq_list[i] == l], axis=1)\n",
    "            emission += emission_temp\n",
    "\n",
    "        emission = np.divide(emission, emis_denom.reshape((-1,1)))\n",
    "\n",
    "        \n",
    "    \n",
    "    return(np.round(emission,2), np.round(transition,2), initial_distribution)\n",
    "\n",
    "\n",
    "    "
   ]
  },
  {
   "cell_type": "code",
   "execution_count": 138,
   "id": "9dadde85",
   "metadata": {},
   "outputs": [],
   "source": [
    "def encode_seq(symbols, sequence):\n",
    "\n",
    "    \n",
    "        enc = [0] * len(sequence)\n",
    "\n",
    "        for i in range(len(sequence)):\n",
    "            enc[i] = symbols.find(sequence[i])\n",
    "\n",
    "        return(np.array(enc))\n",
    "    \n",
    "def genSeq(n, init_dist, trans, emission):\n",
    "    states = []\n",
    "    vis = []\n",
    "    \n",
    "    state = np.random.choice([x for x in range(len(init_dist))], p=init_dist)\n",
    "    \n",
    "    for i in range(n):\n",
    "        state = np.random.choice([x for x in range(len(trans[state]))], p=trans[state])\n",
    "        v = np.random.choice([x+1 for x in range(len(emission[state]))], p=emission[state])\n",
    "        states.append(str(state))\n",
    "        vis.append(str(v))\n",
    "    states = \"\".join(states)\n",
    "    vis = \"\".join(vis)\n",
    "    \n",
    "    return(states, vis)\n",
    "\n",
    "\n",
    "def calc_mse(x,y):\n",
    "    err = np.mean(np.power(x-y,2))\n",
    "    return(err)\n",
    "\n",
    "def evaluate_performance(est_emission, est_transition, est_init, emission, transition, init):\n",
    "    \n",
    "    est_par = np.concatenate([est_emission, est_transition, est_init.reshape(-1,1)], axis=1)\n",
    "    true_par = np.concatenate([emission, transition, init.reshape(-1,1)], axis=1)\n",
    "    \n",
    "    mse_list = []\n",
    "    for state_order in itertools.permutations(est_par, len(est_par)):\n",
    "        mse_list.append(calc_mse(state_order, true_par))\n",
    "        \n",
    "    return(mse_list)"
   ]
  },
  {
   "cell_type": "code",
   "execution_count": 139,
   "id": "dc62d901",
   "metadata": {
    "scrolled": false
   },
   "outputs": [
    {
     "data": {
      "application/vnd.jupyter.widget-view+json": {
       "model_id": "6d16a6caff674a058fff0b7c47ca4244",
       "version_major": 2,
       "version_minor": 0
      },
      "text/plain": [
       "  0%|          | 0/10 [00:00<?, ?it/s]"
      ]
     },
     "metadata": {},
     "output_type": "display_data"
    },
    {
     "data": {
      "application/vnd.jupyter.widget-view+json": {
       "model_id": "90553e3c98144752886845827a464f6d",
       "version_major": 2,
       "version_minor": 0
      },
      "text/plain": [
       "  0%|          | 0/250 [00:00<?, ?it/s]"
      ]
     },
     "metadata": {},
     "output_type": "display_data"
    },
    {
     "data": {
      "application/vnd.jupyter.widget-view+json": {
       "model_id": "ff802d88ffd5403d842918e3e75e32f2",
       "version_major": 2,
       "version_minor": 0
      },
      "text/plain": [
       "  0%|          | 0/250 [00:00<?, ?it/s]"
      ]
     },
     "metadata": {},
     "output_type": "display_data"
    },
    {
     "data": {
      "application/vnd.jupyter.widget-view+json": {
       "model_id": "a267e973bd994db1be6e96883e53d1b4",
       "version_major": 2,
       "version_minor": 0
      },
      "text/plain": [
       "  0%|          | 0/250 [00:00<?, ?it/s]"
      ]
     },
     "metadata": {},
     "output_type": "display_data"
    },
    {
     "data": {
      "application/vnd.jupyter.widget-view+json": {
       "model_id": "9ebce958ece5483bb33bb6e623925651",
       "version_major": 2,
       "version_minor": 0
      },
      "text/plain": [
       "  0%|          | 0/250 [00:00<?, ?it/s]"
      ]
     },
     "metadata": {},
     "output_type": "display_data"
    },
    {
     "data": {
      "application/vnd.jupyter.widget-view+json": {
       "model_id": "7f30794b97104444a4b5e86ac8d7ba8e",
       "version_major": 2,
       "version_minor": 0
      },
      "text/plain": [
       "  0%|          | 0/250 [00:00<?, ?it/s]"
      ]
     },
     "metadata": {},
     "output_type": "display_data"
    },
    {
     "data": {
      "application/vnd.jupyter.widget-view+json": {
       "model_id": "eef13c3d49df421bbbbb76a6463717fb",
       "version_major": 2,
       "version_minor": 0
      },
      "text/plain": [
       "  0%|          | 0/250 [00:00<?, ?it/s]"
      ]
     },
     "metadata": {},
     "output_type": "display_data"
    },
    {
     "data": {
      "application/vnd.jupyter.widget-view+json": {
       "model_id": "667817806b1640d2bad9035595f00231",
       "version_major": 2,
       "version_minor": 0
      },
      "text/plain": [
       "  0%|          | 0/250 [00:00<?, ?it/s]"
      ]
     },
     "metadata": {},
     "output_type": "display_data"
    },
    {
     "data": {
      "application/vnd.jupyter.widget-view+json": {
       "model_id": "7e6eb82d72bd42a590a0b4cc99d79ac8",
       "version_major": 2,
       "version_minor": 0
      },
      "text/plain": [
       "  0%|          | 0/250 [00:00<?, ?it/s]"
      ]
     },
     "metadata": {},
     "output_type": "display_data"
    },
    {
     "data": {
      "application/vnd.jupyter.widget-view+json": {
       "model_id": "cb2d944a73f949d2b5d4bf80d665a893",
       "version_major": 2,
       "version_minor": 0
      },
      "text/plain": [
       "  0%|          | 0/250 [00:00<?, ?it/s]"
      ]
     },
     "metadata": {},
     "output_type": "display_data"
    },
    {
     "data": {
      "application/vnd.jupyter.widget-view+json": {
       "model_id": "7acf61753b53472ca9b440adf3d34db1",
       "version_major": 2,
       "version_minor": 0
      },
      "text/plain": [
       "  0%|          | 0/250 [00:00<?, ?it/s]"
      ]
     },
     "metadata": {},
     "output_type": "display_data"
    }
   ],
   "source": [
    "### Sequence:\n",
    "sim_trans = np.array([\n",
    "    [0.95,0.05],\n",
    "    [0.1, 0.9]\n",
    "])\n",
    "\n",
    "sim_emission = np.array([\n",
    "    [1.0/6, 1.0/6, 1.0/6, 1.0/6, 1.0/6, 1.0/6],\n",
    "    [1.0/10, 1.0/10, 1.0/10, 1.0/10, 1.0/10, 5.0/10]\n",
    "])\n",
    "\n",
    "sim_init = np.array([0.5,0.5])\n",
    "\n",
    "#\n",
    "runs = 10 # number of models trained\n",
    "est_em_list = []\n",
    "est_trans_list = []\n",
    "est_init_list = []\n",
    "mse_run = []\n",
    "\n",
    "for run in tqdm(range(runs)):\n",
    "    seq_list = []\n",
    "    for i in range(20):\n",
    "        states, seq = genSeq(100, sim_init, sim_trans, sim_emission)\n",
    "        seq = np.array([x for x in seq])\n",
    "        symbols = \"123456\"\n",
    "\n",
    "        seq = encode_seq(symbols, seq)\n",
    "        seq_list.append(seq)\n",
    "\n",
    "    #### Initial values\n",
    "    # Transition Probabilities\n",
    "    n_states = 2\n",
    "\n",
    "    transition = np.ones((n_states, n_states))\n",
    "    transition = transition / np.sum(transition, axis=1)\n",
    "\n",
    "\n",
    "    # Emission Probabilities\n",
    "    emission = np.random.uniform(0,1, size=(n_states, len(symbols)))\n",
    "    emission = emission / np.sum(emission, axis=1).reshape((-1, 1))\n",
    "\n",
    "    # Equal Probabilities for the initial distribution\n",
    "    initial_distribution = np.divide(np.ones(n_states), n_states)\n",
    "\n",
    "    est_em, est_trans, est_init = baum_welch(np.array(seq_list), transition, emission, \n",
    "                                             initial_distribution, n_iter=250)\n",
    "    est_em_list.append(est_em) \n",
    "    est_trans_list.append(est_trans)\n",
    "    est_init_list.append(est_init)\n",
    "    \n",
    "    mse = evaluate_performance(est_em, est_trans, est_init, sim_emission, sim_trans, sim_init)\n",
    "    mse_run.append(mse)\n",
    "\n",
    "    \n",
    "## averaging parameters from the runs\n",
    "ensemble_emission = sum(est_em_list)/runs\n",
    "ensemble_transition = sum(est_trans_list)/runs\n",
    "ensemble_init = sum(est_init_list)/runs\n",
    "\n",
    "ensemble_mse = evaluate_performance(ensemble_emission, ensemble_transition, ensemble_init, \n",
    "                                    sim_emission, sim_trans, sim_init)"
   ]
  },
  {
   "cell_type": "code",
   "execution_count": 141,
   "id": "12a010ea",
   "metadata": {},
   "outputs": [
    {
     "data": {
      "text/plain": [
       "<BarContainer object of 10 artists>"
      ]
     },
     "execution_count": 141,
     "metadata": {},
     "output_type": "execute_result"
    },
    {
     "data": {
      "image/png": "[encoded data removed]",
      "text/plain": [
       "<Figure size 432x288 with 1 Axes>"
      ]
     },
     "metadata": {
      "needs_background": "light"
     },
     "output_type": "display_data"
    }
   ],
   "source": [
    "import matplotlib.pyplot as plt\n",
    "mse_min = np.min(mse_run, axis=1)\n",
    "x_ticks = [str(x+1) for x in range(len(mse_min)-1)]+[\"ens\"]\n",
    "plt.bar(x=x_ticks, height=mse_min)"
   ]
  }
 ],
 "metadata": {
  "kernelspec": {
   "display_name": "Python 3",
   "language": "python",
   "name": "python3"
  },
  "language_info": {
   "codemirror_mode": {
    "name": "ipython",
    "version": 3
   },
   "file_extension": ".py",
   "mimetype": "text/x-python",
   "name": "python",
   "nbconvert_exporter": "python",
   "pygments_lexer": "ipython3",
   "version": "3.6.9"
  }
 },
 "nbformat": 4,
 "nbformat_minor": 5
}
