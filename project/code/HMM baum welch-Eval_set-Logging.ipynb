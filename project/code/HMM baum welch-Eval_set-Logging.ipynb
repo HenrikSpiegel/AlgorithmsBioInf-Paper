{
 "cells": [
  {
   "cell_type": "markdown",
   "id": "bf883b1d",
   "metadata": {},
   "source": [
    "## HMM Baum Welch Implementation\n",
    "\n"
   ]
  },
  {
   "cell_type": "markdown",
   "id": "a8c0059f",
   "metadata": {},
   "source": [
    "### Main functions for the algorithm"
   ]
  },
  {
   "cell_type": "code",
   "execution_count": 1,
   "id": "675ff16a",
   "metadata": {},
   "outputs": [],
   "source": [
    "#V = sequences\n",
    "#a = transition\n",
    "#b = emission\n",
    "from tqdm.notebook import tqdm\n",
    "import numpy as np\n",
    "import itertools\n",
    "\n",
    "def forward_run(seq, emission, transition, initial_distribution):\n",
    "    alpha = np.zeros((len(seq), transition.shape[0]))\n",
    "    # Initialising first position\n",
    "    alpha[0, :] = initial_distribution * emission[:, seq[0]]\n",
    "\n",
    "    # main loop\n",
    "    for i in range(1, len(seq)):\n",
    "\n",
    "        for j in range(0, transition.shape[0]): #Through number of states\n",
    "            \n",
    "            alpha[i,j] = np.dot(alpha[i-1], transition[:,j])*emission[j, seq[i]]\n",
    "    \n",
    "    return(alpha)\n",
    "\n",
    "def backward_run(seq, emission, transition):\n",
    "    beta = np.zeros((len(seq), transition.shape[0]))\n",
    "    #initialising last position\n",
    "    beta[len(seq)-1] = np.ones((transition.shape[0]))\n",
    "    \n",
    "    for i in range(len(seq) - 2, -1, -1): #Run backwards through the sequence\n",
    "        for j in range(transition.shape[0]):\n",
    "            beta[i,j] = np.dot((beta[i+1]*emission[:, seq[i+1]]), transition[j,:])\n",
    "    \n",
    "    return(beta)\n",
    "\n",
    "def baum_welch(train_seq_list, test_seq_list, transition, emission, initial_distribution, n_iter=50):\n",
    "    \n",
    "    #Ensure shape of seqlist\n",
    "    if len(train_seq_list.shape) != 2:\n",
    "        seq_list = np.array([train_seq_list])\n",
    "\n",
    "    M = transition.shape[0] #number of hidden states\n",
    "    T = train_seq_list.shape[1]   #lenght of each sequence\n",
    "    R = train_seq_list.shape[0]   #number of sequences\n",
    "    train_log = np.zeros(n_iter)\n",
    "    \n",
    "    for n in tqdm(range(n_iter), leave=False):\n",
    "        xi_list = []\n",
    "        gamma_list = []\n",
    "\n",
    "        for seq in train_seq_list:\n",
    "\n",
    "            alpha = forward_run(seq, emission, transition, initial_distribution)\n",
    "            beta  = backward_run(seq, emission, transition) \n",
    "\n",
    "            #On the fly normalisation:\n",
    "            norm_fact = np.sum(alpha, axis = 1)\n",
    "\n",
    "            for i in range(alpha.shape[1]):\n",
    "                alpha[:,i] = alpha[:,i]/norm_fact\n",
    "                beta[:,i] = beta[:,i]/norm_fact\n",
    "        \n",
    "            train_log[n] += np.sum(np.log(alpha[:,-1]))/n_iter\n",
    "        \n",
    "            #xi[i,j] probability of transition from hidden state i to hidden state j at time t given observations:\n",
    "            xi = np.zeros((M, M, T-1))\n",
    "\n",
    "            for t in range(T-1):\n",
    "                # The denominator gives the probability of observing the seq given the parameters.\n",
    "                # Which equals getting the observation by the sum of paths through the model.\n",
    "\n",
    "                d1 = np.dot((alpha[t,:].T), transition*emission[:, seq[t + 1]].T)\n",
    "\n",
    "                denominator = np.dot(d1, beta[t+1, :])\n",
    "\n",
    "                for i in range(M):\n",
    "                    numerator = alpha[t,i] * transition[i,:] * emission[:, seq[t+1]].T * beta[t+1, :].T\n",
    "                    xi[i, :, t] = numerator / denominator\n",
    "            \n",
    "            xi_list.append(xi)\n",
    "\n",
    "            \n",
    "            # probability at given state i and time t given the observed sequence.\n",
    "            gamma = np.sum(xi, axis=1)\n",
    "            gamma_list.append(gamma)\n",
    "        \n",
    "        \n",
    "        \n",
    "        ### Maximization step\n",
    "        #Initial dist:\n",
    "        initial_distribution = gamma_list[0][:,0]\n",
    "        for i in range(1,R):\n",
    "            initial_distribution += gamma_list[i][:,0]\n",
    "        initial_distribution = initial_distribution / R\n",
    "        #initial_distribution = sum([gamma[:,0] for gamma in gamma_list]) / R\n",
    "            \n",
    "            \n",
    "        #update transition\n",
    "        trans_nom = np.sum(xi_list[0], axis = 2)\n",
    "        trans_denom = np.sum(gamma_list[0], axis=1).reshape((-1,1))\n",
    "        \n",
    "        for i in range(1, R):\n",
    "            trans_nom += np.sum(xi_list[i], axis = 2)\n",
    "            trans_denom += np.sum(gamma_list[i], axis=1).reshape((-1,1))\n",
    "        \n",
    "        transition =  trans_nom/trans_denom\n",
    "        \n",
    "        #Ensure T elements in Gamma, gamma has lenght T-1 and T emissions are needed.\n",
    "        gamma_list = [np.hstack((gamma, np.sum(xi[:, :, T - 2], axis=0).reshape((-1,1)))) for gamma, xi in zip(gamma_list, xi_list)]\n",
    "\n",
    "        K = emission.shape[1]\n",
    "        \n",
    "        emis_denom = np.sum(gamma_list[0], axis=1) \n",
    "        for i in range(1,R):\n",
    "            emis_denom += np.sum(gamma_list[i], axis=1) \n",
    "                  \n",
    "        \n",
    "        for l in range(K):\n",
    "            emission[:, l] = np.sum(gamma_list[0][:, train_seq_list[0] == l], axis=1)\n",
    "        \n",
    "        emission_temp = emission.copy()\n",
    "        for i in range(1,R):\n",
    "            for l in range(K):\n",
    "                emission_temp[:, l] = np.sum(gamma_list[i][:, train_seq_list[i] == l], axis=1)\n",
    "            emission += emission_temp\n",
    "\n",
    "        emission = np.divide(emission, emis_denom.reshape((-1,1)))\n",
    "    \n",
    "    # Get the probability of the test sequences given the trained parameters\n",
    "    model_prob = 0\n",
    "    for seq in test_seq_list:\n",
    "        alpha = forward_run(seq, emission, transition, initial_distribution)\n",
    "        model_prob += np.sum(np.log(alpha[:,-1], out=np.zeros_like(alpha[:,-1]), where=(alpha[:,-1])!=0))\n",
    "    model_prob = model_prob/len(test_seq_list)\n",
    "    return(np.round(emission,3), np.round(transition,3), initial_distribution, np.round(model_prob,2), train_log)\n",
    "\n",
    "\n",
    "    "
   ]
  },
  {
   "cell_type": "markdown",
   "id": "c6cb8c89",
   "metadata": {},
   "source": [
    "### Support functions"
   ]
  },
  {
   "cell_type": "code",
   "execution_count": 2,
   "id": "9dadde85",
   "metadata": {},
   "outputs": [],
   "source": [
    "def encode_seq(symbols, sequence):\n",
    "\n",
    "    \n",
    "        enc = [0] * len(sequence)\n",
    "\n",
    "        for i in range(len(sequence)):\n",
    "            enc[i] = symbols.find(sequence[i])\n",
    "\n",
    "        return(np.array(enc))\n",
    "    \n",
    "def genSeq(n, init_dist, trans, emission):\n",
    "    states = []\n",
    "    vis = []\n",
    "    \n",
    "    state = np.random.choice([x for x in range(len(init_dist))], p=init_dist)\n",
    "    \n",
    "    for i in range(n):\n",
    "        state = np.random.choice([x for x in range(len(trans[state]))], p=trans[state])\n",
    "        v = np.random.choice([x+1 for x in range(len(emission[state]))], p=emission[state])\n",
    "        states.append(str(state))\n",
    "        vis.append(str(v))\n",
    "    states = \"\".join(states)\n",
    "    vis = \"\".join(vis)\n",
    "    \n",
    "    return(states, vis)\n",
    "\n",
    "\n",
    "def calc_mse(x,y):\n",
    "    err = np.mean(np.power(x-y,2))\n",
    "    return(err)\n",
    "\n",
    "def evaluate_performance(est_emission, est_transition, est_init, emission, transition, init):\n",
    "    \n",
    "    est_par = np.concatenate([est_emission, est_transition, est_init.reshape(-1,1)], axis=1)\n",
    "    true_par = np.concatenate([emission, transition, init.reshape(-1,1)], axis=1)\n",
    "    \n",
    "    mse_list = []\n",
    "    for state_order in itertools.permutations(est_par, len(est_par)):\n",
    "        mse_list.append(calc_mse(state_order, true_par))\n",
    "        \n",
    "    return(mse_list)\n",
    "\n",
    "def combine_ensemble(emission_list, transition_list, init_list, loglikelihood_list):\n",
    "    \n",
    "    # Determine reference run by best likelihood\n",
    "    R = len(emission_list) #number of runs\n",
    "    \n",
    "    ref_index = np.argmax(loglikelihood_list)\n",
    "    print(\"reference model: \", ref_index+1)\n",
    "    ref_comb_par = np.concatenate([emission_list[ref_index], \n",
    "                                   transition_list[ref_index], \n",
    "                                   init_list[ref_index].reshape(-1,1)], \n",
    "                                  axis=1)\n",
    "    \n",
    "    #rotated parameters for each run with least mse to ref:\n",
    "    rot_par = []\n",
    "    \n",
    "    for r in range(R):\n",
    "        comb_par = np.concatenate([emission_list[r], transition_list[r], init_list[r].reshape(-1,1)], axis=1)\n",
    "        mse = []\n",
    "        rotation = []\n",
    "        for state_rotation in itertools.permutations(comb_par, len(comb_par)):\n",
    "            rotation.append(state_rotation)\n",
    "            mse.append(calc_mse(state_rotation, ref_comb_par))\n",
    "        \n",
    "        # keep the rotation with the smallest mse\n",
    "        rot_par.append([rotation[np.argmin(mse)]])\n",
    "    \n",
    "    #combine all the parameters from the runs rotated to match reference.\n",
    "    \n",
    "    ens_comb_par = np.divide(sum(np.array(rot_par))[0],R)\n",
    "\n",
    "    #Slice into each matrix:\n",
    "    len_em = emission_list[0].shape[1]\n",
    "    len_tr = transition_list[0].shape[1]\n",
    "    \n",
    "    ens_emission, ens_transition, ens_init = np.split(ens_comb_par,[len_em,len_em+len_tr],axis=1)\n",
    "    \n",
    "    \n",
    "    return(ens_emission, ens_transition, ens_init.flatten())\n",
    "    \n",
    "\n"
   ]
  },
  {
   "cell_type": "markdown",
   "id": "ad3887a8",
   "metadata": {},
   "source": [
    "### Main program\n",
    "\n",
    "Note that the main program is setup to allow MSE comparison with known true parameters for describing the model.\n",
    "\n",
    "However, simply removing lines (82,83 99) would allow the user to run on sequences with unknown underlying model."
   ]
  },
  {
   "cell_type": "code",
   "execution_count": 3,
   "id": "dc62d901",
   "metadata": {
    "scrolled": false
   },
   "outputs": [
    {
     "data": {
      "application/vnd.jupyter.widget-view+json": {
       "model_id": "ad6844e576f24d849e5274abb81f8c0d",
       "version_major": 2,
       "version_minor": 0
      },
      "text/plain": [
       "  0%|          | 0/7 [00:00<?, ?it/s]"
      ]
     },
     "metadata": {},
     "output_type": "display_data"
    },
    {
     "data": {
      "application/vnd.jupyter.widget-view+json": {
       "model_id": "",
       "version_major": 2,
       "version_minor": 0
      },
      "text/plain": [
       "  0%|          | 0/500 [00:00<?, ?it/s]"
      ]
     },
     "metadata": {},
     "output_type": "display_data"
    },
    {
     "data": {
      "application/vnd.jupyter.widget-view+json": {
       "model_id": "",
       "version_major": 2,
       "version_minor": 0
      },
      "text/plain": [
       "  0%|          | 0/500 [00:00<?, ?it/s]"
      ]
     },
     "metadata": {},
     "output_type": "display_data"
    },
    {
     "data": {
      "application/vnd.jupyter.widget-view+json": {
       "model_id": "",
       "version_major": 2,
       "version_minor": 0
      },
      "text/plain": [
       "  0%|          | 0/500 [00:00<?, ?it/s]"
      ]
     },
     "metadata": {},
     "output_type": "display_data"
    },
    {
     "data": {
      "application/vnd.jupyter.widget-view+json": {
       "model_id": "",
       "version_major": 2,
       "version_minor": 0
      },
      "text/plain": [
       "  0%|          | 0/500 [00:00<?, ?it/s]"
      ]
     },
     "metadata": {},
     "output_type": "display_data"
    },
    {
     "data": {
      "application/vnd.jupyter.widget-view+json": {
       "model_id": "",
       "version_major": 2,
       "version_minor": 0
      },
      "text/plain": [
       "  0%|          | 0/500 [00:00<?, ?it/s]"
      ]
     },
     "metadata": {},
     "output_type": "display_data"
    },
    {
     "data": {
      "application/vnd.jupyter.widget-view+json": {
       "model_id": "",
       "version_major": 2,
       "version_minor": 0
      },
      "text/plain": [
       "  0%|          | 0/500 [00:00<?, ?it/s]"
      ]
     },
     "metadata": {},
     "output_type": "display_data"
    },
    {
     "data": {
      "application/vnd.jupyter.widget-view+json": {
       "model_id": "",
       "version_major": 2,
       "version_minor": 0
      },
      "text/plain": [
       "  0%|          | 0/500 [00:00<?, ?it/s]"
      ]
     },
     "metadata": {},
     "output_type": "display_data"
    },
    {
     "name": "stdout",
     "output_type": "stream",
     "text": [
      "reference model:  4\n"
     ]
    }
   ],
   "source": [
    "## Run parameters:\n",
    "np.random.seed(1)\n",
    "\n",
    "runs = 7 # number of models trained\n",
    "training_iters = 500 #Number of training iterations pr. model\n",
    "\n",
    "n_train_seq = 300 # Number of generated simulated sequences\n",
    "n_test_seq = 100\n",
    "len_sim_seq = 50 # Lenght of simulated sequences\n",
    "\n",
    "\n",
    "### Known parameters to generate test sequences:\n",
    "sim_trans = np.array([\n",
    "    [0.95,0.05],\n",
    "    [0.1, 0.9]\n",
    "])\n",
    "\n",
    "sim_emission = np.array([\n",
    "    [1.0/6, 1.0/6, 1.0/6, 1.0/6, 1.0/6, 1.0/6],\n",
    "    [1.0/10, 1.0/10, 1.0/10, 1.0/10, 1.0/10, 5.0/10]\n",
    "])\n",
    "\n",
    "sim_init = np.array([0.5,0.5])\n",
    "\n",
    "## Generate simulated sequences from a known model\n",
    "train_seq_list = []\n",
    "for i in range(n_train_seq):\n",
    "    states, seq = genSeq(len_sim_seq, sim_init, sim_trans, sim_emission)\n",
    "    seq = np.array([x for x in seq])\n",
    "    symbols = \"123456\"\n",
    "\n",
    "    seq = encode_seq(symbols, seq)\n",
    "    train_seq_list.append(seq)\n",
    "\n",
    "test_seq_list = []\n",
    "for i in range(n_test_seq):\n",
    "    states, seq = genSeq(len_sim_seq, sim_init, sim_trans, sim_emission)\n",
    "    seq = np.array([x for x in seq])\n",
    "    symbols = \"123456\"\n",
    "\n",
    "    seq = encode_seq(symbols, seq)\n",
    "    test_seq_list.append(seq)\n",
    "#\n",
    "\n",
    "est_em_list = []\n",
    "est_trans_list = []\n",
    "est_init_list = []\n",
    "mse_run = []\n",
    "model_probabilities = []\n",
    "\n",
    "train_logs = []\n",
    "\n",
    "for run in tqdm(range(runs)):\n",
    "    \n",
    "    #### Initial values\n",
    "    # Transition Probabilities\n",
    "    n_states = 2\n",
    "\n",
    "    transition = np.ones((n_states, n_states))\n",
    "    transition = transition / np.sum(transition, axis=1)\n",
    "\n",
    "\n",
    "    # Emission Probabilities\n",
    "    emission = np.random.uniform(0,1, size=(n_states, len(symbols)))\n",
    "    emission = emission / np.sum(emission, axis=1).reshape((-1, 1))\n",
    "\n",
    "    # Equal Probabilities for the initial distribution\n",
    "    initial_distribution = np.divide(np.ones(n_states), n_states)\n",
    "\n",
    "    # Run baum_welch \n",
    "    est_em, est_trans, est_init, prob, train_log = baum_welch(np.array(train_seq_list),np.array(test_seq_list),\n",
    "                                                   transition, \n",
    "                                                   emission, \n",
    "                                                   initial_distribution, \n",
    "                                                   n_iter=training_iters)\n",
    "    train_logs.append(train_log)\n",
    "    est_em_list.append(est_em) \n",
    "    est_trans_list.append(est_trans)\n",
    "    est_init_list.append(est_init)\n",
    "    model_probabilities.append(prob)\n",
    "    \n",
    "    mse = evaluate_performance(est_em, est_trans, est_init, sim_emission, sim_trans, sim_init)\n",
    "    mse_run.append(mse)\n",
    "\n",
    "    \n",
    "## Computing ensemble of the runs\n",
    "ensemble_emission, ensemble_transition , ensemble_init = combine_ensemble(emission_list = est_em_list, \n",
    "                                                             transition_list = est_trans_list, \n",
    "                                                             init_list = est_init_list,\n",
    "                                                             loglikelihood_list = model_probabilities)\n",
    "\n",
    "# Get the probability of the sequence given the trained parameters\n",
    "ensemble_prob = 0\n",
    "for seq in test_seq_list:\n",
    "    alpha = forward_run(seq, ensemble_emission, ensemble_transition, ensemble_init)\n",
    "    ensemble_prob += np.sum(np.log(alpha[:,-1], out=np.zeros_like(alpha[:,-1]), where=(alpha[:,-1])!=0))\n",
    "ensemble_prob = ensemble_prob / len(test_seq_list)\n",
    "\n",
    "ensemble_mse = evaluate_performance(ensemble_emission, ensemble_transition, ensemble_init, \n",
    "                                    sim_emission, sim_trans, sim_init)"
   ]
  },
  {
   "cell_type": "code",
   "execution_count": 35,
   "id": "12a010ea",
   "metadata": {},
   "outputs": [
    {
     "data": {
      "image/png": "[encoded data removed]",
      "text/plain": [
       "<Figure size 432x288 with 2 Axes>"
      ]
     },
     "metadata": {
      "needs_background": "light"
     },
     "output_type": "display_data"
    }
   ],
   "source": [
    "import matplotlib.pyplot as plt\n",
    "\n",
    "def plot_evaluation(mse_run, ensemble_mse, model_probabilities, ensemble_prob):\n",
    "    mse_min = np.min(mse_run+[ensemble_mse], axis=1)\n",
    "    x_ticks = [str(x+1) for x in range(len(mse_run))]+[\"ens\"]\n",
    "    \n",
    "    plt.subplot(1,2,1)\n",
    "    plt.bar(x=x_ticks, height=mse_min)\n",
    "    plt.ylabel(\"MSE\")\n",
    "\n",
    "\n",
    "    plt.subplot(1,2,2)\n",
    "    plt.bar(x=x_ticks, height = np.divide(model_probabilities+[ensemble_prob],-1))\n",
    "    plt.ylabel(\"-log likelihood\")\n",
    "    plt.tight_layout()\n",
    "    return(plt)\n",
    "\n",
    "plot = plot_evaluation(mse_run, ensemble_mse, model_probabilities, ensemble_prob)\n",
    "plot.savefig(\"../../fig/runEval_1150.png\", dpi=1000)"
   ]
  },
  {
   "cell_type": "code",
   "execution_count": 36,
   "id": "6a5a8cd0",
   "metadata": {},
   "outputs": [
    {
     "data": {
      "image/png": "[encoded data removed]",
      "text/plain": [
       "<Figure size 720x288 with 7 Axes>"
      ]
     },
     "metadata": {
      "needs_background": "light"
     },
     "output_type": "display_data"
    }
   ],
   "source": [
    "import matplotlib.pyplot as plt\n",
    "x_ticks = list(range(training_iters))\n",
    "plt.figure(figsize=(10,4))\n",
    "plt.suptitle(\"-log(likelihood) during training\")\n",
    "for i in range(runs):\n",
    "    #\n",
    "\n",
    "    plt.subplot(1,runs, i+1)\n",
    "    plt.plot(x_ticks, -train_logs[i])\n",
    "    plt.tight_layout()\n",
    "    plt.xlabel(\"Training iteration\")\n",
    "\n",
    "plot.savefig(\"../../fig/runEvalTraining_1150.png\", dpi=1000)"
   ]
  },
  {
   "cell_type": "code",
   "execution_count": null,
   "id": "23eb0979",
   "metadata": {},
   "outputs": [],
   "source": []
  }
 ],
 "metadata": {
  "kernelspec": {
   "display_name": "Python 3",
   "language": "python",
   "name": "python3"
  },
  "language_info": {
   "codemirror_mode": {
    "name": "ipython",
    "version": 3
   },
   "file_extension": ".py",
   "mimetype": "text/x-python",
   "name": "python",
   "nbconvert_exporter": "python",
   "pygments_lexer": "ipython3",
   "version": "3.6.9"
  }
 },
 "nbformat": 4,
 "nbformat_minor": 5
}
